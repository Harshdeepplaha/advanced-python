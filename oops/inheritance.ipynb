{
 "cells": [
  {
   "cell_type": "code",
   "execution_count": 3,
   "metadata": {},
   "outputs": [
    {
     "data": {
      "text/plain": [
       "(3, 4)"
      ]
     },
     "execution_count": 3,
     "metadata": {},
     "output_type": "execute_result"
    }
   ],
   "source": [
    "# 1)\tComplete the code given below and then perform the following tasks on the coordinate class.\n",
    "# a. Instantiate two different objects P1 and P2.\n",
    "# b. Display the coordinates of P1 and P2.\n",
    "# c. Add an __eq__ method that returns True if coordinates P1 and P2 refer to the same point in a plane.\n",
    "# class Coordinate(object):\n",
    "# def __init__(self, x, y):\n",
    "# self.x = x\n",
    "# self.y = y\n",
    "\n",
    "# def getX(self):\n",
    "# return self.x\n",
    "\n",
    "# def getY(self):\n",
    "# return self.y\n",
    "\n",
    "\n",
    "class Coordinate(object):\n",
    "    def __init__(self,x,y):\n",
    "        self.x = x\n",
    "        self.y = y\n",
    "        \n",
    "    \n",
    "\n",
    "    def display(self):\n",
    "        return self.x, self.y\n",
    "    \n",
    "    def __eq__(self, __o: object) -> bool:\n",
    "        pass    \n",
    "\n",
    "#1\n",
    "p1 = Coordinate(1,2)\n",
    "p2 = Coordinate(3,4)\n",
    "\n",
    "#2\n",
    "p1.display()\n",
    "p2.display()\n",
    "\n",
    "\n",
    "#3\n",
    "\n",
    "\n",
    "\n",
    "\n"
   ]
  },
  {
   "cell_type": "code",
   "execution_count": 14,
   "metadata": {},
   "outputs": [
    {
     "data": {
      "text/plain": [
       "300.0"
      ]
     },
     "execution_count": 14,
     "metadata": {},
     "output_type": "execute_result"
    }
   ],
   "source": [
    "\n",
    "\n",
    "\n",
    "class Shape:\n",
    "    def __init__(self, x) -> None:\n",
    "        self.color = x\n",
    "        \n",
    "class Rectangle(Shape):\n",
    "    def __init__(self, x,y ,z) -> None:\n",
    "        super().__init__(x)\n",
    "        self.length = y\n",
    "        self.breadth = z\n",
    "        \n",
    "    def cal_area(self):\n",
    "        area = self.length*self.breadth\n",
    "        return area\n",
    "    \n",
    "class Triangle(Shape):\n",
    "    def __init__(self, x, b, h) -> None:\n",
    "        super().__init__(x)\n",
    "        self.base = b\n",
    "        self.height = h\n",
    "        \n",
    "    def calc_area(self):\n",
    "        area = 1/2*(self.base*self.height)\n",
    "        return area\n",
    "    \n",
    "    \n",
    "rect1 = Rectangle('green', 10,20)\n",
    "rect1.cal_area()  \n",
    "\n",
    "tri1 = Triangle('blue', 20, 30) \n",
    "tri1.calc_area() \n",
    "    \n",
    "    "
   ]
  },
  {
   "cell_type": "code",
   "execution_count": 15,
   "metadata": {},
   "outputs": [
    {
     "data": {
      "text/plain": [
       "1256.6370614359173"
      ]
     },
     "execution_count": 15,
     "metadata": {},
     "output_type": "execute_result"
    }
   ],
   "source": [
    "from cmath import pi\n",
    "\n",
    "\n",
    "class Circle:\n",
    "    def __init__(self, r):\n",
    "        self.radius = r\n",
    "        \n",
    "    def getRadius(self):\n",
    "        return self.radius\n",
    "    \n",
    "    def calc_area(self):\n",
    "        return 3.14*(self.radius**2)\n",
    "    \n",
    "class Cylinder(Circle):\n",
    "    def __init__(self, r, h):\n",
    "        super().__init__(r)\n",
    "        self.height = h\n",
    "        \n",
    "        \n",
    "    def cal_area(self):\n",
    "        return 2*pi*self.radius*self.height\n",
    "    \n",
    "    \n",
    "    \n",
    "cy1 = Cylinder(10,20)\n",
    "cy1.cal_area()"
   ]
  }
 ],
 "metadata": {
  "kernelspec": {
   "display_name": "Python 3.10.6 64-bit (windows store)",
   "language": "python",
   "name": "python3"
  },
  "language_info": {
   "name": "python",
   "version": "3.10.7"
  },
  "orig_nbformat": 4,
  "vscode": {
   "interpreter": {
    "hash": "e09c7ec039dbbe55429f02a1d8f449bfe4a8c8a91dc82a3bba95d90758835f0c"
   }
  }
 },
 "nbformat": 4,
 "nbformat_minor": 2
}
