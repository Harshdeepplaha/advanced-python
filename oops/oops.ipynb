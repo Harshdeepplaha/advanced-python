{
 "cells": [
  {
   "cell_type": "code",
   "execution_count": 1,
   "metadata": {},
   "outputs": [
    {
     "name": "stdout",
     "output_type": "stream",
     "text": [
      "<class 'NoneType'>\n",
      "<class 'bool'>\n",
      "<class 'int'>\n",
      "<class 'float'>\n",
      "<class 'str'>\n",
      "<class 'list'>\n",
      "<class 'tuple'>\n",
      "<class 'dict'>\n"
     ]
    }
   ],
   "source": [
    "\n",
    "print(type(None))\n",
    "print(type(True))\n",
    "print(type(5))\n",
    "print(type(5.5))\n",
    "print(type('hi'))\n",
    "print(type([]))\n",
    "print(type(()))\n",
    "print(type({}))\n"
   ]
  },
  {
   "cell_type": "code",
   "execution_count": 9,
   "metadata": {},
   "outputs": [
    {
     "name": "stdout",
     "output_type": "stream",
     "text": [
      "<__main__.PlayerCharacter object at 0x000001EA88447640>\n",
      "True\n"
     ]
    }
   ],
   "source": [
    "#attributes and methods\n",
    "\n",
    "\n",
    "\n",
    "\n",
    "class PlayerCharacter:\n",
    "    #class object attribute these are not dynamic and same for each instance or object\n",
    "    membership = True\n",
    "    \n",
    "    def __init__(self, name, age):\n",
    "       if (self.membership):\n",
    "           self.name = name\n",
    "           self.age = age\n",
    "        \n",
    "        \n",
    "    def run(self):\n",
    "        print(\"run\")\n",
    "        return 'done'\n",
    "    \n",
    "    \n",
    "    #class methods and static methods\n",
    "\n",
    "\n",
    "    @classmethod\n",
    "    def adding_things(cls, num1, num2):\n",
    "        return cls('hello', num1 + num2)\n",
    "    \n",
    "    \n",
    "    \n",
    "\n",
    "\n",
    "    \n",
    "    \n",
    "        \n",
    "    \n",
    "\n",
    "    \n",
    "\n",
    "player1 = PlayerCharacter('yashiii', 20)\n",
    "player2 = PlayerCharacter('yash', 20)\n",
    "\n",
    "\n",
    "print(player1.adding_things(2, 3))\n",
    "\n",
    "print(player1.membership)\n"
   ]
  },
  {
   "cell_type": "code",
   "execution_count": null,
   "metadata": {},
   "outputs": [],
   "source": [
    "\n",
    "\n",
    "\n"
   ]
  },
  {
   "cell_type": "code",
   "execution_count": 2,
   "metadata": {},
   "outputs": [
    {
     "name": "stdout",
     "output_type": "stream",
     "text": [
      "hello\n"
     ]
    }
   ],
   "source": [
    "#1.\tWrite a program to create a class named Demo. Define two methods Get_String() and Print_String(). Accept the string form user and print the string in upper case.\n",
    "\n",
    "class demo:\n",
    "    \n",
    "    inputstr = ''\n",
    "    \n",
    "    def get_String(self):\n",
    "        self.inputstr = input('enter a string')\n",
    "        \n",
    "    def print_String(self):\n",
    "        print(self.inputstr)\n",
    "\n",
    "\n",
    "str1 = demo()\n",
    "str1.get_String()\n",
    "str1.print_String()"
   ]
  },
  {
   "cell_type": "code",
   "execution_count": 4,
   "metadata": {},
   "outputs": [
    {
     "name": "stdout",
     "output_type": "stream",
     "text": [
      "10\n",
      "314.0\n"
     ]
    }
   ],
   "source": [
    "# 2.\tWrite a program to create a class Circle. Perform the following operations on it.\n",
    "# a)\tDefine the attribute radius.\n",
    "# b)\tDefine the method named get_radius() which returns the radius of the circle.\n",
    "# c)\t Define the method named calc_area() which returns the area of the circle\n",
    "\n",
    "class circle:\n",
    "    radius = 0\n",
    "    \n",
    "    def get_radius(self):\n",
    "        print(self.radius)\n",
    "        \n",
    "    def calc_area(self):\n",
    "        area = 3.14*(self.radius**2)\n",
    "        print(area)\n",
    "        \n",
    "circle1 = circle()\n",
    "\n",
    "circle1.radius = 10\n",
    "circle1.get_radius()\n",
    "circle1.calc_area()\n",
    "\n"
   ]
  },
  {
   "cell_type": "code",
   "execution_count": null,
   "metadata": {},
   "outputs": [],
   "source": [
    "# 4.\tVellore Police stations(PS) are looking to develop their own traffic fine management system. To this end, the class “citizen” should have:\n",
    "# a)\tvehicle number(max 10 characters)\n",
    "#     b)\t police station code(int)\n",
    "#     c)\t fine code(int)\n",
    "#     d)\t fine amount(float)\n",
    "#     Also, they have a set of fine codes & amounts\n",
    "#     1 == > 100.0 Rs\n",
    "#     2 == > 500.0 Rs\n",
    "#     3 == > 1000.0 Rs\n",
    "#     4 == > 5000.0 Rs\n",
    "#     5 == > 2500.0 Rs\n",
    "#     The traffic constable will input only the vehicle number, police station code, and the fine code. Design the code to accept only 5 fines.\n",
    "#     Create:\n",
    "#     a)\tcreate a function to read(a)-(c), and then assigns the fine amount based on the fine code\n",
    "#     b)\tcreate a print function which will print the(a)-(d) in the same order\n",
    "#     c)\tAlso calculate & print the number of fines and the total fine amount for all police stations\n",
    "#     INPUT(Vehicle number, fine code, police station code)\n",
    "#     TN23CP0001 1 1001\n",
    "#     TN23CP0002 3 1002\n",
    "#     TN23CP0003 4 1002\n"
   ]
  },
  {
   "cell_type": "code",
   "execution_count": 4,
   "metadata": {},
   "outputs": [
    {
     "name": "stdout",
     "output_type": "stream",
     "text": [
      "TN12345678 1 1004 2500\n"
     ]
    }
   ],
   "source": [
    "class CarDetails:\n",
    "    \n",
    "    fine_amount = [100, 500, 1000, 5000, 2500]\n",
    "    \n",
    "    def __init__(self,vhl_no,  pol_stn_code, fine_code):\n",
    "        if (len(vhl_no)==10):\n",
    "            self.vhl_no = vhl_no\n",
    "            self.pol_stn_code = pol_stn_code\n",
    "            self.fine_code = fine_code\n",
    "            \n",
    "            \n",
    "    def display(self):\n",
    "        print(str(self.vhl_no) + ' ' + str(self.pol_stn_code) + ' ' + str(self.fine_code) + ' ' + str(self.fine_amount[(self.fine_code - 1000)]))\n",
    "       \n",
    "       \n",
    "       \n",
    "       \n",
    "          \n",
    "car1 = CarDetails('TN12345678', 1, 1004)\n",
    "car1.display()  \n",
    "            \n",
    "            \n",
    "        "
   ]
  },
  {
   "cell_type": "code",
   "execution_count": 3,
   "metadata": {},
   "outputs": [
    {
     "data": {
      "text/plain": [
       "8"
      ]
     },
     "execution_count": 3,
     "metadata": {},
     "output_type": "execute_result"
    }
   ],
   "source": [
    "string1 = 'kdjfejfe'\n",
    "len(string1)"
   ]
  }
 ],
 "metadata": {
  "kernelspec": {
   "display_name": "Python 3.10.6 64-bit (windows store)",
   "language": "python",
   "name": "python3"
  },
  "language_info": {
   "codemirror_mode": {
    "name": "ipython",
    "version": 3
   },
   "file_extension": ".py",
   "mimetype": "text/x-python",
   "name": "python",
   "nbconvert_exporter": "python",
   "pygments_lexer": "ipython3",
   "version": "3.10.7"
  },
  "orig_nbformat": 4,
  "vscode": {
   "interpreter": {
    "hash": "e09c7ec039dbbe55429f02a1d8f449bfe4a8c8a91dc82a3bba95d90758835f0c"
   }
  }
 },
 "nbformat": 4,
 "nbformat_minor": 2
}
