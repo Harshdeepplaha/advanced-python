{
 "cells": [
  {
   "cell_type": "code",
   "execution_count": 5,
   "metadata": {},
   "outputs": [
    {
     "name": "stdout",
     "output_type": "stream",
     "text": [
      "end the main thread\n"
     ]
    }
   ],
   "source": [
    "import threading\n",
    "\n",
    "def func1():\n",
    "    print('calling my thread', threading.currentThread().getName())\n",
    "    th1  = threading.Thread(target=func1, name = 'th1' )\n",
    "    th2 = threading.Thread(target=func1, name = 'th2')\n",
    "    th1.start()\n",
    "    th2.start()\n",
    "    th1.join()\n",
    "    th2.join()\n",
    "    \n",
    "print('end the main thread')"
   ]
  },
  {
   "cell_type": "code",
   "execution_count": null,
   "metadata": {},
   "outputs": [],
   "source": [
    "# How to use a thread in a subclass\n",
    "\n",
    "import threading\n",
    "import time\n",
    "\n",
    "def print_epoch(name, delay):\n",
    "    count = 0\n",
    "    while count<5:\n",
    "        time.sleep(delay)\n",
    "        count += 1\n",
    "        print(name, \"-------\", time.ctime())\n",
    "        \n",
    "class child(threading.Thread):\n",
    "    def def __init__(self, name, age):\n",
    "          self.name = name\n",
    "      self.age = age"
   ]
  }
 ],
 "metadata": {
  "kernelspec": {
   "display_name": "Python 3.10.6 64-bit (windows store)",
   "language": "python",
   "name": "python3"
  },
  "language_info": {
   "codemirror_mode": {
    "name": "ipython",
    "version": 3
   },
   "file_extension": ".py",
   "mimetype": "text/x-python",
   "name": "python",
   "nbconvert_exporter": "python",
   "pygments_lexer": "ipython3",
   "version": "3.10.7"
  },
  "orig_nbformat": 4,
  "vscode": {
   "interpreter": {
    "hash": "e09c7ec039dbbe55429f02a1d8f449bfe4a8c8a91dc82a3bba95d90758835f0c"
   }
  }
 },
 "nbformat": 4,
 "nbformat_minor": 2
}
