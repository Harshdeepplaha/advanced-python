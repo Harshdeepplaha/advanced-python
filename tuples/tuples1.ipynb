{
 "cells": [
  {
   "cell_type": "code",
   "execution_count": 5,
   "metadata": {},
   "outputs": [
    {
     "name": "stdout",
     "output_type": "stream",
     "text": [
      "()\n",
      "<class 'tuple'>\n"
     ]
    }
   ],
   "source": [
    "t1 = tuple()\n",
    "print(t1)\n",
    "\n",
    "\n",
    "print(type(t1))"
   ]
  },
  {
   "cell_type": "code",
   "execution_count": 6,
   "metadata": {},
   "outputs": [
    {
     "name": "stdout",
     "output_type": "stream",
     "text": [
      "[40, 50, 60]\n"
     ]
    }
   ],
   "source": [
    "list1 = [10, 20, 30 , 40, 50]\n",
    "\n",
    "list2 = [x+10 for x in list1 if x>20]\n",
    "print(list2)"
   ]
  }
 ],
 "metadata": {
  "kernelspec": {
   "display_name": "Python 3.10.6 64-bit (windows store)",
   "language": "python",
   "name": "python3"
  },
  "language_info": {
   "codemirror_mode": {
    "name": "ipython",
    "version": 3
   },
   "file_extension": ".py",
   "mimetype": "text/x-python",
   "name": "python",
   "nbconvert_exporter": "python",
   "pygments_lexer": "ipython3",
   "version": "3.10.7"
  },
  "orig_nbformat": 4,
  "vscode": {
   "interpreter": {
    "hash": "e09c7ec039dbbe55429f02a1d8f449bfe4a8c8a91dc82a3bba95d90758835f0c"
   }
  }
 },
 "nbformat": 4,
 "nbformat_minor": 2
}
