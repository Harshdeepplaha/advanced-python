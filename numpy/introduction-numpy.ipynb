{
 "cells": [
  {
   "cell_type": "code",
   "execution_count": 5,
   "metadata": {},
   "outputs": [
    {
     "name": "stdout",
     "output_type": "stream",
     "text": [
      "1\n"
     ]
    }
   ],
   "source": [
    "# numpy's main objct is the multidimensional array\n",
    "\n",
    "# it is a table of elements, all of the same type, indexed by a tuple of positive integers\n",
    "# in numpy arrays dimensions are called axes . the no of axes is called the rank\n",
    "# A tuple of integers giving the size of each dim is known as shape of the array\n",
    "# numpy's array class is called ndarray. it is also known as alias array"
   ]
  },
  {
   "cell_type": "code",
   "execution_count": 1,
   "metadata": {},
   "outputs": [
    {
     "name": "stdout",
     "output_type": "stream",
     "text": [
      "<class 'numpy.ndarray'>\n",
      "2\n",
      "(2, 3)\n",
      "6\n",
      "int32\n"
     ]
    }
   ],
   "source": [
    "import numpy as np\n",
    "\n",
    "# creating array object\n",
    "myarr = np.array([[1,2,3],[4,5,6]])\n",
    "\n",
    "# Printing type of array object \n",
    "print(type(myarr))\n",
    "\n",
    "#printing dimension\n",
    "print(myarr.ndim)\n",
    "\n",
    "# printing the shape\n",
    "print(myarr.shape)\n",
    "\n",
    "# printing the size\n",
    "print(myarr.size)\n",
    "\n",
    "# printing type of elements in array\n",
    "print(myarr.dtype)"
   ]
  },
  {
   "cell_type": "code",
   "execution_count": 1,
   "metadata": {},
   "outputs": [
    {
     "name": "stdout",
     "output_type": "stream",
     "text": [
      "[[-1  2  0  4]\n",
      " [ 4  5  6  7]\n",
      " [ 1  2  3  4]\n",
      " [ 4  5  6  7]]\n",
      "[[-1  0]\n",
      " [ 4  6]]\n",
      "[5 3 4 5]\n"
     ]
    }
   ],
   "source": [
    "# Accessing the array index\n",
    "\n",
    "\n",
    "import numpy as np\n",
    "arr = np.array([[-1, 2, 0, 4], [4,5,6,7],[1,2,3,4], [4,5,6,7]])\n",
    "print(arr)\n",
    "\n",
    "# printing a range of array using slicing method\n",
    "\n",
    "sliced_arr = arr[:2, ::2]\n",
    "print(sliced_arr)\n",
    "\n",
    "\n",
    "#printing specific elements\n",
    "indexed_arr = arr[[1,2,3,3], [1,2,0,1]]\n",
    "print(indexed_arr)\n",
    "\n"
   ]
  },
  {
   "cell_type": "code",
   "execution_count": null,
   "metadata": {},
   "outputs": [],
   "source": [
    "# Basic array operations\n",
    "\n",
    "\n",
    "import numpy as np\n",
    "\n"
   ]
  }
 ],
 "metadata": {
  "kernelspec": {
   "display_name": "Python 3.10.7 64-bit (microsoft store)",
   "language": "python",
   "name": "python3"
  },
  "language_info": {
   "codemirror_mode": {
    "name": "ipython",
    "version": 3
   },
   "file_extension": ".py",
   "mimetype": "text/x-python",
   "name": "python",
   "nbconvert_exporter": "python",
   "pygments_lexer": "ipython3",
   "version": "3.10.7"
  },
  "orig_nbformat": 4,
  "vscode": {
   "interpreter": {
    "hash": "e09c7ec039dbbe55429f02a1d8f449bfe4a8c8a91dc82a3bba95d90758835f0c"
   }
  }
 },
 "nbformat": 4,
 "nbformat_minor": 2
}
