{
 "cells": [
  {
   "cell_type": "code",
   "execution_count": 5,
   "metadata": {},
   "outputs": [
    {
     "name": "stdout",
     "output_type": "stream",
     "text": [
      "1\n"
     ]
    }
   ],
   "source": [
    "# numpy's main object is the multidimensional array\n",
    "\n",
    "# it is a table of elements, all of the same type, indexed by a tuple of positive integers\n",
    "# in numpy arrays dimensions are called axes . the no of axes is called the rank\n",
    "# A tuple of integers giving the size of each dim is known as shape of the array\n",
    "# numpy's array class is called ndarray. it is also known as alias array"
   ]
  },
  {
   "cell_type": "code",
   "execution_count": 2,
   "metadata": {},
   "outputs": [
    {
     "name": "stdout",
     "output_type": "stream",
     "text": [
      "[[0 0 0]\n",
      " [0 0 0]\n",
      " [0 0 0]]\n",
      "<class 'numpy.ndarray'>\n",
      "2\n",
      "(2, 3)\n",
      "6\n",
      "int32\n"
     ]
    }
   ],
   "source": [
    "import numpy as np\n",
    "\n",
    "# creating array object from lists\n",
    "\n",
    "myarr = np.array([[1,2,3],[4,5,6]])\n",
    "\n",
    "\n",
    "#creating an array obecrt using only zeros\n",
    "\n",
    "myarr1 = np.zeros((3,3), dtype = int)\n",
    "print(myarr1)\n",
    "\n",
    "# Printing type of array object \n",
    "print(type(myarr))\n",
    "\n",
    "#printing dimension\n",
    "print(myarr.ndim)\n",
    "\n",
    "# printing the shape\n",
    "print(myarr.shape)\n",
    "\n",
    "# printing the size\n",
    "print(myarr.size)\n",
    "\n",
    "# printing type of elements in array\n",
    "print(myarr.dtype)"
   ]
  },
  {
   "cell_type": "code",
   "execution_count": 1,
   "metadata": {},
   "outputs": [
    {
     "name": "stdout",
     "output_type": "stream",
     "text": [
      "[[-1  2  0  4]\n",
      " [ 4  5  6  7]\n",
      " [ 1  2  3  4]\n",
      " [ 4  5  6  7]]\n",
      "[[-1  0]\n",
      " [ 4  6]]\n",
      "[5 3 4 5]\n"
     ]
    }
   ],
   "source": [
    "# Accessing the array index\n",
    "\n",
    "\n",
    "import numpy as np\n",
    "arr = np.array([[-1, 2, 0, 4],\n",
    "                [4,5,6,7],\n",
    "                [1,2,3,4],\n",
    "                [4,5,6,7]])\n",
    "print(arr)\n",
    "\n",
    "# printing a range of array using slicing method\n",
    "\n",
    "sliced_arr = arr[:2, ::2]\n",
    "print(sliced_arr)\n",
    "\n",
    "\n",
    "#printing specific elements\n",
    "indexed_arr = arr[[1,2,3,3], [1,2,0,1]]\n",
    "print(indexed_arr)\n",
    "\n"
   ]
  },
  {
   "cell_type": "code",
   "execution_count": 4,
   "metadata": {},
   "outputs": [
    {
     "name": "stdout",
     "output_type": "stream",
     "text": [
      "Harshdeep Singh Plaha 20MIC0005\n",
      "{'test1': {'dhoni': 89, 'kholi': 67}, 'test2': {'dhoni': 78, 'Rohit': 45}}\n",
      "Total Run Scored by Each Playes in 2 Tests: \n",
      "{'dhoni': 167, 'kholi': 67, 'Rohit': 45}\n",
      "Player With highest score\n",
      "('dhoni', 167)\n"
     ]
    }
   ],
   "source": [
    "\n",
    "print(\"Harshdeep Singh Plaha 20MIC0005\")\n",
    "n, m = list(map(int, input().split()))\n",
    "d = {}\n",
    "for i in range(n):\n",
    "    dict_name = input(\"\")\n",
    "    d[dict_name] = {}\n",
    "    for i in range(m):\n",
    "        player_name, score = input().split()\n",
    "        d[dict_name][player_name] = int(score)\n",
    "print(d)\n",
    "\n",
    "\n",
    "def Max_Score(m):\n",
    "    total = {}\n",
    "    for i in m.keys():\n",
    "        for n in m[i].keys():\n",
    "            if n in total.keys():\n",
    "                total[n] = total[n] + m[i][n]\n",
    "            else:\n",
    "                total[n] = m[i][n]\n",
    "    print(\"Total Run Scored by Each Playes in 2 Tests: \")\n",
    "    print(total)\n",
    "    print(\"Player With highest score\")\n",
    "    max_total = -1\n",
    "    for n in total.keys():\n",
    "        if total[n] > max_total:\n",
    "            max_name = n\n",
    "            max_total = total[n]\n",
    "    return (max_name, max_total)\n",
    "\n",
    "\n",
    "match_summary = Max_Score(d)\n",
    "print(match_summary)\n"
   ]
  },
  {
   "cell_type": "code",
   "execution_count": null,
   "metadata": {},
   "outputs": [],
   "source": []
  }
 ],
 "metadata": {
  "kernelspec": {
   "display_name": "Python 3.10.7 64-bit (microsoft store)",
   "language": "python",
   "name": "python3"
  },
  "language_info": {
   "codemirror_mode": {
    "name": "ipython",
    "version": 3
   },
   "file_extension": ".py",
   "mimetype": "text/x-python",
   "name": "python",
   "nbconvert_exporter": "python",
   "pygments_lexer": "ipython3",
   "version": "3.10.8"
  },
  "orig_nbformat": 4,
  "vscode": {
   "interpreter": {
    "hash": "e09c7ec039dbbe55429f02a1d8f449bfe4a8c8a91dc82a3bba95d90758835f0c"
   }
  }
 },
 "nbformat": 4,
 "nbformat_minor": 2
}
