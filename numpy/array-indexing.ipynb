{
 "cells": [
  {
   "cell_type": "code",
   "execution_count": 3,
   "metadata": {},
   "outputs": [
    {
     "name": "stdout",
     "output_type": "stream",
     "text": [
      "Array with first 2 rows and alternatecolumns(0 and 2):\n",
      " [[-1.  0.]\n",
      " [ 4.  6.]]\n"
     ]
    }
   ],
   "source": [
    "#indexing arrays in numpy\n",
    "\n",
    "#slicing\n",
    "import numpy as np\n",
    "arr = np.array([[-1, 2, 0, 4],\n",
    "                [4, -0.5, 6, 0],\n",
    "                [2.6, 0, 7, 8],\n",
    "                [3, -7, 4, 2.0]])\n",
    "\n",
    "# Slicing array\n",
    "temp = arr[:2, ::2]\n",
    "print(\"Array with first 2 rows and alternate\"\n",
    "      \"columns(0 and 2):\\n\", temp)\n"
   ]
  },
  {
   "cell_type": "code",
   "execution_count": 4,
   "metadata": {},
   "outputs": [
    {
     "name": "stdout",
     "output_type": "stream",
     "text": [
      "[0 1 2 3 4 5 6 7 8 9]\n"
     ]
    }
   ],
   "source": [
    "import numpy as np \n",
    "arr = np.arange(10)\n",
    "print(arr)"
   ]
  },
  {
   "cell_type": "code",
   "execution_count": null,
   "metadata": {},
   "outputs": [],
   "source": [
    "import numpy as np \n",
    "datapt = np.loadtxt"
   ]
  },
  {
   "cell_type": "code",
   "execution_count": null,
   "metadata": {},
   "outputs": [],
   "source": [
    "class Shape:\n",
    "    color=''\n",
    "    def __int__(self,c):\n",
    "        self.color=c\n",
    "class Rectangle(Shape):\n",
    "    lenght=0\n",
    "    breadth=0\n",
    "    def __int__(self,c,l,b):\n",
    "        super().__int__(c)\n",
    "        self.lenght=l\n",
    "        self.breadth=b\n",
    "print(\"-----Rectangle-----\")\n",
    "\n",
    "Shape.color=input(\"Color of Rectangle:\")\n",
    "area=0\n",
    "lenght=int(input(\"Length of rectangle:\"))\n",
    "breadth=int(input(\"Breadth of rectangle:\"))\n",
    "\n",
    "def calc_area(self):\n",
    "    self.area=2*(self.lenght+self.breadth)\n",
    "    return self.area\n",
    "\n",
    "def Rect_Details(self):\n",
    "    print(\"Color of rectangle is:\", Shape.color)\n",
    "    print(\"Length of rectangle is:\",self.lenght)\n",
    "    print(\"Breadth of rectangle is:\",self.breadth)\n",
    "    print(\"Area of rectangle=\", self.area)\n",
    "\n",
    "\n",
    "class Trianlge(Shape):\n",
    "    def __int__(self,c,h,base):\n",
    "        super().__int__(c)\n",
    "        self.bs=base\n",
    "        self.ht=h\n",
    "    print(\"-----Triangle-----\")\n",
    "    Shape.color = input(\"Color of Triangle:\")\n",
    "    area = 0\n",
    "    ht = int(input(\"Height of Triangle:\"))\n",
    "    bs= int(input(\"Base of Triangle:\"))\n",
    "\n",
    "\n",
    "def calc_area(self):\n",
    "    self.area=1/2*self.bs*self.ht\n",
    "    return self.area\n",
    "\n",
    "def Tring_Details(self):\n",
    "    print(\"Color of Triangle is:\", Shape.color)\n",
    "    print(\"Height of Triangle is:\",self.ht)\n",
    "    print(\"Base of Triangle is:\",self.bs)\n",
    "    print(\"Area of triangle=\", self.area)\n",
    "\n",
    "\n",
    "s1=Shape()\n",
    "R1=Rectangle()\n",
    "R1.calc_area()\n",
    "R1.Rect_Details()\n",
    "T1=Trianlge()\n",
    "T1.calc_area()\n",
    "T1.Tring_Details()"
   ]
  },
  {
   "cell_type": "code",
   "execution_count": null,
   "metadata": {},
   "outputs": [],
   "source": [
    "class ComplexNum:\n",
    "    def __init__(self,real,complex) -> None:\n",
    "        self.real = real\n",
    "        self.complex = complex\n",
    "    def __add__(self,co):\n",
    "        return self.real + co.real, self.complex + co.complex\n",
    "    def __sub__(self,co):\n",
    "        return self.real - co.real, self.complex - co.complex\n",
    "    def __mul__(self,co):\n",
    "        return ((self.real * co.real)-(self.complex*co.complex)), ((self.real * co.complex)+(self.complex*co.real))\n",
    "    def __eq__(self, co) -> bool:\n",
    "        if(self.real == co.real and self.complex == co.complex):\n",
    "            return True\n",
    "        else:\n",
    "            return False\n",
    "    def __ge__(self,co):\n",
    "        if(self.real >= co.real and self.complex>=co.complex):\n",
    "            return True\n",
    "        else:\n",
    "            return False\n",
    "\n",
    "c1 = ComplexNum(5,5)\n",
    "c2 = ComplexNum(5,5)\n",
    "print(C1+C2)\n",
    "print(C1-C2)\n",
    "print(C1*C2)\n",
    "print(C1==C2)\n",
    "print(C1>=C2)\n"
   ]
  }
 ],
 "metadata": {
  "kernelspec": {
   "display_name": "Python 3.10.8 64-bit (microsoft store)",
   "language": "python",
   "name": "python3"
  },
  "language_info": {
   "codemirror_mode": {
    "name": "ipython",
    "version": 3
   },
   "file_extension": ".py",
   "mimetype": "text/x-python",
   "name": "python",
   "nbconvert_exporter": "python",
   "pygments_lexer": "ipython3",
   "version": "3.10.8"
  },
  "orig_nbformat": 4,
  "vscode": {
   "interpreter": {
    "hash": "e09c7ec039dbbe55429f02a1d8f449bfe4a8c8a91dc82a3bba95d90758835f0c"
   }
  }
 },
 "nbformat": 4,
 "nbformat_minor": 2
}
