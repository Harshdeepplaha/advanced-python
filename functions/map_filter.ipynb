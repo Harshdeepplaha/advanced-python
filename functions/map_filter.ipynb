{
 "cells": [
  {
   "cell_type": "code",
   "execution_count": 9,
   "metadata": {},
   "outputs": [
    {
     "name": "stdout",
     "output_type": "stream",
     "text": [
      "[2, 4, 6]\n",
      "{'h': 12, 'a': 2, 'b': 13, 1: 2, 2: 4, 3: 6}\n"
     ]
    }
   ],
   "source": [
    "list1 = [1,2,3]\n",
    "\n",
    "dict1 = {'h': 12, 'a':2, 'b':13}\n",
    "\n",
    "def mul_by2(item):\n",
    "    dict1[item] = item*2\n",
    "    return dict1[item]\n",
    "\n",
    "print(list(map(mul_by2, list1)))\n",
    "print(dict1)"
   ]
  },
  {
   "cell_type": "code",
   "execution_count": null,
   "metadata": {},
   "outputs": [],
   "source": [
    "# Filter\n",
    "\n",
    "def check_odd(item):\n",
    "    \n"
   ]
  },
  {
   "cell_type": "code",
   "execution_count": null,
   "metadata": {},
   "outputs": [],
   "source": [
    "# lambda functions "
   ]
  },
  {
   "cell_type": "code",
   "execution_count": 12,
   "metadata": {},
   "outputs": [
    {
     "name": "stdout",
     "output_type": "stream",
     "text": [
      "6\n"
     ]
    }
   ],
   "source": [
    "from re import A\n",
    "\n",
    "\n",
    "class numbers():\n",
    "    \n",
    "    def __init__(self, a):\n",
    "        self.x = a        \n",
    "    \n",
    "    def __mul__(self,other):\n",
    "        \n",
    "        return self.x + other.x\n",
    "    \n",
    "    \n",
    "    \n",
    "    \n",
    "n1 = numbers(1)\n",
    "n2 = numbers(5)\n",
    "print(n1*n2)"
   ]
  },
  {
   "cell_type": "code",
   "execution_count": 13,
   "metadata": {},
   "outputs": [
    {
     "name": "stdout",
     "output_type": "stream",
     "text": [
      "end the main thread\n"
     ]
    }
   ],
   "source": [
    "import threading\n",
    "\n",
    "\n",
    "def func2():\n",
    "    print(\"hello\", threading.currentThread.getName())\n",
    "\n",
    "\n",
    "def func1():\n",
    "    print('calling my thread', threading.currentThread().getName())\n",
    "    T1 = threading.Thread(target=func1, name='T1')\n",
    "    T2 = threading.Thread(target=func2, name='T2')\n",
    "    T1.start()\n",
    "    T2.start()\n",
    "    T1.join()\n",
    "    T2.join()\n",
    "\n",
    "\n",
    "print('end the main thread')\n"
   ]
  }
 ],
 "metadata": {
  "kernelspec": {
   "display_name": "Python 3.10.6 64-bit (windows store)",
   "language": "python",
   "name": "python3"
  },
  "language_info": {
   "codemirror_mode": {
    "name": "ipython",
    "version": 3
   },
   "file_extension": ".py",
   "mimetype": "text/x-python",
   "name": "python",
   "nbconvert_exporter": "python",
   "pygments_lexer": "ipython3",
   "version": "3.10.7"
  },
  "orig_nbformat": 4,
  "vscode": {
   "interpreter": {
    "hash": "e09c7ec039dbbe55429f02a1d8f449bfe4a8c8a91dc82a3bba95d90758835f0c"
   }
  }
 },
 "nbformat": 4,
 "nbformat_minor": 2
}
