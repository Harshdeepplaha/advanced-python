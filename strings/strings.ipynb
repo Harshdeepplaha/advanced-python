{
 "cells": [
  {
   "cell_type": "code",
   "execution_count": 2,
   "metadata": {},
   "outputs": [
    {
     "name": "stdout",
     "output_type": "stream",
     "text": [
      "e\n",
      "o\n"
     ]
    }
   ],
   "source": [
    "string1 = 'hello'\n",
    "print(min(string1))\n",
    "print(max(string1))\n"
   ]
  },
  {
   "cell_type": "code",
   "execution_count": 15,
   "metadata": {},
   "outputs": [
    {
     "name": "stdout",
     "output_type": "stream",
     "text": [
      "hello gamdu 10 how are you 10 and 100\n"
     ]
    }
   ],
   "source": [
    "print('hello gamdu {0:b} how are you {1:b} and {2:b}'.format(2, 2, 4))"
   ]
  },
  {
   "cell_type": "code",
   "execution_count": 16,
   "metadata": {},
   "outputs": [
    {
     "name": "stdout",
     "output_type": "stream",
     "text": [
      "Harhdeep plahaFalse\n",
      "False\n",
      "\n",
      "Harhdeep plaha\n",
      "Harhdeep plah\n"
     ]
    }
   ],
   "source": [
    "# Searching Substring in a String:\n",
    "\n",
    "v = 'Harhdeep plaha'\n",
    "\n",
    "\n",
    "for chAR in v:\n",
    "    print(chAR, end = '')\n",
    "\n",
    "print(v.endswith('ars'))\n",
    "\n",
    "print(v.startswith('har'))\n",
    "\n",
    "print()\n",
    "\n",
    "v.capitalize()\n",
    "print(v)\n",
    "\n",
    "v.replace('plaha', 'singh')\n",
    "\n",
    "\n",
    "\n",
    "print(v[:-1])\n"
   ]
  },
  {
   "cell_type": "code",
   "execution_count": 10,
   "metadata": {},
   "outputs": [
    {
     "name": "stdout",
     "output_type": "stream",
     "text": [
      "dict_keys(['hell', 'njdnfj'])\n"
     ]
    }
   ],
   "source": [
    "# x  = input().split()\n",
    "# print(x)\n",
    "\n",
    "diccti = {'hell': 1, 'njdnfj': 12}\n",
    "\n",
    "print(diccti.keys())\n"
   ]
  }
 ],
 "metadata": {
  "kernelspec": {
   "display_name": "Python 3.10.6 64-bit (windows store)",
   "language": "python",
   "name": "python3"
  },
  "language_info": {
   "codemirror_mode": {
    "name": "ipython",
    "version": 3
   },
   "file_extension": ".py",
   "mimetype": "text/x-python",
   "name": "python",
   "nbconvert_exporter": "python",
   "pygments_lexer": "ipython3",
   "version": "3.10.7"
  },
  "orig_nbformat": 4,
  "vscode": {
   "interpreter": {
    "hash": "e09c7ec039dbbe55429f02a1d8f449bfe4a8c8a91dc82a3bba95d90758835f0c"
   }
  }
 },
 "nbformat": 4,
 "nbformat_minor": 2
}
